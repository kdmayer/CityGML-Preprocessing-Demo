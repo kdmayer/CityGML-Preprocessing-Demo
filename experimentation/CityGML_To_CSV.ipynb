{
 "cells": [
  {
   "cell_type": "code",
   "execution_count": null,
   "id": "26e71602",
   "metadata": {
    "scrolled": true
   },
   "outputs": [],
   "source": [
    "%cd ..\n",
    "cwd = !pwd\n",
    "assert cwd[0].split(\"/\")[-1] == \"CityGML_Processing\", f\"You are not in the CityGML_Processing directory. You are in {cwd}\""
   ]
  },
  {
   "cell_type": "code",
   "execution_count": null,
   "id": "a0536dd7",
   "metadata": {},
   "outputs": [],
   "source": [
    "from lxml import etree\n",
    "from tqdm import tqdm\n",
    "from shapely.geometry import Polygon\n",
    "from shapely import wkt\n",
    "from geo_utils import Building, ns_bldg, ns_citygml, ns_gml, convert_3D_2D, add_missing_addresses_to_rooftopdata\n",
    "\n",
    "import geopandas as gpd\n",
    "import pandas as pd\n",
    "import glob\n",
    "import os"
   ]
  },
  {
   "cell_type": "code",
   "execution_count": null,
   "id": "0ba37e5c",
   "metadata": {},
   "outputs": [],
   "source": [
    "# Configuration\n",
    "\n",
    "DATA_DIR = \"/Users/Kevin/Projects/CityGML_Processing/data/\"\n",
    "TOWN = \"TEST_GML\"\n",
    "\n",
    "rooftop_data = {}\n",
    "building_data = {}\n",
    "\n",
    "check_sum = 0"
   ]
  },
  {
   "cell_type": "code",
   "execution_count": null,
   "id": "d67d71e0",
   "metadata": {},
   "outputs": [],
   "source": [
    "gml_file_paths = []\n",
    "\n",
    "GML_DATA_DIR = DATA_DIR + \"GML/\"\n",
    "\n",
    "for file_name in os.listdir(GML_DATA_DIR):\n",
    "    if file_name.endswith(\".gml\"):\n",
    "        gml_file_paths.append(GML_DATA_DIR + file_name)\n",
    "        \n",
    "gml_file_paths"
   ]
  },
  {
   "cell_type": "code",
   "execution_count": null,
   "id": "43782288",
   "metadata": {},
   "outputs": [],
   "source": [
    "for file_path in gml_file_paths:\n",
    "    \n",
    "    try:\n",
    "        # Read in file and build tree\n",
    "        CITYGML = etree.parse(file_path) \n",
    "        root = CITYGML.getroot()\n",
    "        \n",
    "    except Exception as e:\n",
    "        # Some files have corrupted XML codes; these files are skipped\n",
    "        print(f'File {file_path} cannot be parsed due to XMLSyntaxError: {e}') \n",
    "    \n",
    "    city_objects = []\n",
    "    buildings = []\n",
    "    \n",
    "    # Create a list of all the objects in the gml file\n",
    "    for obj in root.getiterator('{%s}cityObjectMember'% ns_citygml):\n",
    "        city_objects.append(obj)\n",
    "        \n",
    "    # Create a list of all the buildings in the gml file \n",
    "    for city_object in city_objects:\n",
    "        for child in city_object.getchildren():\n",
    "            if child.tag == '{%s}Building' %ns_bldg:\n",
    "                buildings.append(child)\n",
    "                \n",
    "    print(f'There are {len(buildings)} Building(s) in this CityGML file.')\n",
    "    \n",
    "    # Iterate over building classes (see geo_utils BuildingClass for more information)\n",
    "    building_classes = []\n",
    "    check_sum += len(buildings)\n",
    "    \n",
    "    for building in buildings:\n",
    "        identifier = building.attrib['{%s}id' %ns_gml]\n",
    "        building_classes.append(Building(building, identifier))\n",
    "        \n",
    "    print(\"Create building dictionary\")\n",
    "    for building_class in tqdm(building_classes):\n",
    "        building_data[building_class.id] = {\n",
    "                        'Building_ID': building_class.id, 'City': building_class.city,\n",
    "                        'Street': building_class.streetName, 'StreetNumber': building_class.streetNumber,\n",
    "                        'Gemeindeschluessel': building_class.gemeindeschluessel,\n",
    "                        'RoofData': building_class.roofdata,'WallData': building_class.walldata, \n",
    "                        'GroundData': building_class.grounddata,'Datenquelle_Dachhoehe': building_class.datenquelle_dachhoehe,\n",
    "                        'DatenquelleBodenhoehe': building_class.datenquelle_bodenhoehe, 'DatenquelleLage': building_class.datenquelle_lage,\n",
    "                        'BuildingFunction': building_class.bldg_function, 'RooftopType': building_class.bldg_roofType,\n",
    "                        'MeasuredHeight': building_class.bldg_measuredHeight, 'SourceFile': file_path.split(\"/\")[-1]\n",
    "        }\n",
    "        \n",
    "    print(\"Create rooftop dictionary\")\n",
    "    # Create rooftopDictionary with relevant rooftop information\n",
    "    for building_key in tqdm(building_data):\n",
    "        \n",
    "        for roof_key in building_data[building_key][\"RoofData\"]:\n",
    "            \n",
    "            roof = building_data[building_key][\"RoofData\"][roof_key]\n",
    "            \n",
    "            rooftop_data[roof_key] = {\n",
    "                        'Building_ID': building_data[building_key]['Building_ID'],\n",
    "                        'City': building_data[building_key]['City'],\n",
    "                        'Street': building_data[building_key]['Street'],\n",
    "                        'StreetNumber': building_data[building_key]['StreetNumber'],\n",
    "                        'Gemeindeschluessel': building_data[building_key]['Gemeindeschluessel'],\n",
    "                        'RooftopType': building_data[building_key]['RooftopType'],\n",
    "                        'RoofTopID': roof_key, 'Area': roof['area'],\n",
    "                        'Azimuth': roof['azimuth'],\n",
    "                        'Tilt': roof['tilt'],\n",
    "                        'RooftopPolygon': roof['polygon'],\n",
    "                        'Source_file': file_path.split(\"/\")[-1]\n",
    "            }"
   ]
  },
  {
   "cell_type": "code",
   "execution_count": null,
   "id": "b4fd8240",
   "metadata": {},
   "outputs": [],
   "source": [
    "# Convert dictionaries to dataframes\n",
    "building_data_df = pd.DataFrame(building_data).transpose()\n",
    "rooftop_data_df = pd.DataFrame(rooftop_data).transpose()\n",
    "rooftop_data_df['RooftopPolygon'] = rooftop_data_df['RooftopPolygon'].apply(Polygon)\n",
    "\n",
    "# Create 2D rooftoppolygon\n",
    "rooftop_data_df['RooftopPolygon_2d'] = convert_3D_2D(rooftop_data_df['RooftopPolygon'])\n",
    "\n",
    "# Check sum to validate quality of extraction\n",
    "print(f'There should be {check_sum} buildings available in the dataframe. There are {len(rooftop_data_df.Building_ID.unique())} buildings available.')"
   ]
  },
  {
   "cell_type": "code",
   "execution_count": null,
   "id": "aaf44cb7",
   "metadata": {},
   "outputs": [],
   "source": [
    "# Create GeoJSON for rooftops from CSV\n",
    "def convert_df_to_gdf(rooftop_df, geometry_name='RooftopPolygon_2d', prefix='nan', city='nan', crs={'init': 'epsg:4326'}):\n",
    "    \n",
    "    gdf = gpd.GeoDataFrame(rooftop_df, geometry=geometry_name, crs=crs)\n",
    "    \n",
    "    # Only use relevant columns\n",
    "    gdf = gdf[['Area', 'Azimuth', 'Building_ID', 'City',\n",
    "               'PostalCode', 'RoofTopID', 'RooftopType',\n",
    "               'Street', 'StreetNumber', 'Tilt', 'geometry']]\n",
    "    # For missing addresses find the nearest address in dataframe and use it as a proxy\n",
    "    gdf = add_missing_addresses_to_rooftopdata(gdf)\n",
    "    \n",
    "    return gdf"
   ]
  },
  {
   "cell_type": "code",
   "execution_count": null,
   "id": "de48a1d3",
   "metadata": {},
   "outputs": [],
   "source": [
    "gdf = convert_df_to_gdf(rooftop_df, prefix='polygon', city=TOWN)\n",
    "    \n",
    "# Create GeoJSON\n",
    "filename = DATA_DIR + \"GeoJSON/\" + f\"{prefix}_{city}.geojson\"\n",
    "gdf.to_file(filename, driver=\"GeoJSON\")  "
   ]
  },
  {
   "cell_type": "code",
   "execution_count": null,
   "id": "d7f0d577",
   "metadata": {},
   "outputs": [],
   "source": []
  }
 ],
 "metadata": {
  "kernelspec": {
   "display_name": "Python 3 (ipykernel)",
   "language": "python",
   "name": "python3"
  },
  "language_info": {
   "codemirror_mode": {
    "name": "ipython",
    "version": 3
   },
   "file_extension": ".py",
   "mimetype": "text/x-python",
   "name": "python",
   "nbconvert_exporter": "python",
   "pygments_lexer": "ipython3",
   "version": "3.9.12"
  }
 },
 "nbformat": 4,
 "nbformat_minor": 5
}
