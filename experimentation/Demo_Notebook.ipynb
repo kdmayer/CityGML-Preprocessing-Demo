{
 "cells": [
  {
   "cell_type": "code",
   "execution_count": null,
   "id": "c2074e4b",
   "metadata": {},
   "outputs": [],
   "source": [
    "import leafmap.foliumap as leafmap\n",
    "import matplotlib.pyplot as plt\n",
    "import geopandas as gpd\n",
    "import pandas as pd\n",
    "import numpy as np\n",
    "\n",
    "import os\n",
    "import folium\n",
    "\n",
    "from folium.plugins import FastMarkerCluster\n",
    "from IPython.display import display"
   ]
  },
  {
   "cell_type": "code",
   "execution_count": null,
   "id": "b8b13449",
   "metadata": {},
   "outputs": [],
   "source": [
    "CLS_PATH = \"/Users/kevin/projects/citygml_processing/data/classification/\"\n",
    "\n",
    "# Select the dataset part which you would like to visualize\n",
    "DATA_SPLIT = \"OpenNRW_Train_16\" # OpenNRW_Val_16, OpenNRW_Test_16\n",
    "CLASS_VALUE = \"1\""
   ]
  },
  {
   "cell_type": "code",
   "execution_count": null,
   "id": "604569b3",
   "metadata": {},
   "outputs": [],
   "source": [
    "# Create a list with all files in the classification folder\n",
    "file_list = []\n",
    "\n",
    "for root, dirs, files in os.walk(CLS_PATH):\n",
    "    for file in files:\n",
    "        #append the file name to the list\n",
    "        file_list.append(os.path.join(root,file))\n",
    "\n",
    "# Create a list with only the .png files in the classification folder\n",
    "valid_images = [file_name for file_name in file_list if file_name[-4:] == \".png\"]\n",
    "\n",
    "print(f\"Total number of .PNG images found: {len(valid_images)}\")\n",
    "\n",
    "def select_images(data_split, class_value, file_path):\n",
    "    \n",
    "    file_path_components = file_path.split(\"/\")\n",
    "    data_partition = file_path_components[-3]\n",
    "    classification = file_path_components[-2]\n",
    "    \n",
    "    if (class_value == classification) and (data_split == data_partition):\n",
    "        return True\n",
    "    \n",
    "data_split = list(filter(lambda x: select_images(DATA_SPLIT, CLASS_VALUE, x), valid_images))\n",
    "\n",
    "print(f\"Total number of .PNG images in chosen subset: {len(data_split)}\")"
   ]
  },
  {
   "cell_type": "code",
   "execution_count": null,
   "id": "df54f7a3",
   "metadata": {},
   "outputs": [],
   "source": [
    "my_map = leafmap.Map(center=(50.5558095,9.6808449), zoom=7, google_map=\"TERRAIN\")\n",
    "my_map.add_basemap(\"HYBRID\")\n",
    "\n",
    "coords = []\n",
    "\n",
    "for file_path in data_split:\n",
    "    \n",
    "    image_coords = file_path.split(\"/\")[-1]\n",
    "    coord_1 = float(image_coords.split(\",\")[0])\n",
    "    coord_2 = float(image_coords.split(\",\")[1][:-4])\n",
    "    \n",
    "    if coord_1 <= coord_2:\n",
    "        longitude = coord_1\n",
    "        latitude = coord_2\n",
    "    else:\n",
    "        longitude = coord_2\n",
    "        latitude = coord_1\n",
    "        \n",
    "    #folium.Marker(location=[latitude, longitude]).add_to(my_map)\n",
    "    coords.append([latitude, longitude])\n",
    "    \n",
    "# Display map\n",
    "print(f\"Number of Coordinates: {len(coords)}\")\n",
    "my_map.add_child(FastMarkerCluster(coords))\n",
    "my_map"
   ]
  },
  {
   "cell_type": "code",
   "execution_count": null,
   "id": "70ec4f2b",
   "metadata": {},
   "outputs": [],
   "source": []
  }
 ],
 "metadata": {
  "kernelspec": {
   "display_name": "Python 3 (ipykernel)",
   "language": "python",
   "name": "python3"
  },
  "language_info": {
   "codemirror_mode": {
    "name": "ipython",
    "version": 3
   },
   "file_extension": ".py",
   "mimetype": "text/x-python",
   "name": "python",
   "nbconvert_exporter": "python",
   "pygments_lexer": "ipython3",
   "version": "3.9.12"
  }
 },
 "nbformat": 4,
 "nbformat_minor": 5
}
