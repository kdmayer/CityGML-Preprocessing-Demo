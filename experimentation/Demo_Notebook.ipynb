{
 "cells": [
  {
   "cell_type": "code",
   "execution_count": null,
   "id": "c2074e4b",
   "metadata": {},
   "outputs": [],
   "source": [
    "import geopandas as gpd\n",
    "import pandas as pd\n",
    "import numpy as np\n",
    "import os"
   ]
  },
  {
   "cell_type": "code",
   "execution_count": null,
   "id": "cb32c8cf",
   "metadata": {},
   "outputs": [],
   "source": [
    "CLS_PATH = \"/Users/kevin/projects/citygml_processing/data/classification/\""
   ]
  },
  {
   "cell_type": "code",
   "execution_count": null,
   "id": "22132512",
   "metadata": {},
   "outputs": [],
   "source": [
    "\n",
    "\n",
    "file_list = []\n",
    "\n",
    "for root, dirs, files in os.walk(CLS_PATH):\n",
    "    for file in files:\n",
    "        #append the file name to the list\n",
    "        file_list.append(os.path.join(root,file))\n",
    "\n",
    "len(file_list)"
   ]
  },
  {
   "cell_type": "code",
   "execution_count": null,
   "id": "5d1e2946",
   "metadata": {},
   "outputs": [],
   "source": []
  }
 ],
 "metadata": {
  "kernelspec": {
   "display_name": "Python 3 (ipykernel)",
   "language": "python",
   "name": "python3"
  },
  "language_info": {
   "codemirror_mode": {
    "name": "ipython",
    "version": 3
   },
   "file_extension": ".py",
   "mimetype": "text/x-python",
   "name": "python",
   "nbconvert_exporter": "python",
   "pygments_lexer": "ipython3",
   "version": "3.9.12"
  }
 },
 "nbformat": 4,
 "nbformat_minor": 5
}
