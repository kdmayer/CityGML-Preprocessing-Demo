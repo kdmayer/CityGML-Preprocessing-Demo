{
 "cells": [
  {
   "cell_type": "code",
   "execution_count": null,
   "id": "234cb768",
   "metadata": {},
   "outputs": [],
   "source": [
    "%cd ..\n",
    "cwd = !pwd\n",
    "assert cwd[0].split(\"/\")[-1] == \"CityGML_Processing\", f\"You are not in the root directory. You are in {cwd}\""
   ]
  },
  {
   "cell_type": "code",
   "execution_count": null,
   "id": "c2074e4b",
   "metadata": {},
   "outputs": [],
   "source": [
    "import leafmap.foliumap as leafmap\n",
    "import matplotlib.pyplot as plt\n",
    "import geopandas as gpd\n",
    "import pandas as pd\n",
    "import numpy as np\n",
    "\n",
    "import os\n",
    "import json\n",
    "import folium\n",
    "\n",
    "from folium.plugins import FastMarkerCluster\n",
    "from IPython.display import display"
   ]
  },
  {
   "cell_type": "code",
   "execution_count": null,
   "id": "b8b13449",
   "metadata": {},
   "outputs": [],
   "source": [
    "CLS_PATH = \"./data/classification_dataset/\"\n",
    "\n",
    "# Select the dataset part which you would like to visualize\n",
    "DATA_SPLIT = \"OpenNRW_Train_16\" # Choose from: OpenNRW_Train_16, OpenNRW_Val_16, OpenNRW_Test_16\n",
    "CLASS_VALUE = \"0\" # 0 represents images w/o PV, 1 represents images with PV\n",
    "\n",
    "FILE_PATH = CLS_PATH + DATA_SPLIT + \"_\" + \"Class_\" + CLASS_VALUE + \".json\""
   ]
  },
  {
   "cell_type": "code",
   "execution_count": null,
   "id": "12ee1627",
   "metadata": {},
   "outputs": [],
   "source": [
    "with open(FILE_PATH, 'r') as f:\n",
    "    coords = json.load(f)"
   ]
  },
  {
   "cell_type": "code",
   "execution_count": null,
   "id": "df54f7a3",
   "metadata": {},
   "outputs": [],
   "source": [
    "my_map = leafmap.Map(center=(50.5558095,9.6808449), zoom=7, google_map=\"TERRAIN\")\n",
    "my_map.add_basemap(\"HYBRID\")\n",
    "\n",
    "# Display map\n",
    "print(f\"Number of Images with Coordinates: {len(coords)}\")\n",
    "my_map.add_child(FastMarkerCluster(coords))\n",
    "my_map"
   ]
  },
  {
   "cell_type": "code",
   "execution_count": null,
   "id": "eea4da50",
   "metadata": {},
   "outputs": [],
   "source": []
  }
 ],
 "metadata": {
  "kernelspec": {
   "display_name": "Python 3 (ipykernel)",
   "language": "python",
   "name": "python3"
  },
  "language_info": {
   "codemirror_mode": {
    "name": "ipython",
    "version": 3
   },
   "file_extension": ".py",
   "mimetype": "text/x-python",
   "name": "python",
   "nbconvert_exporter": "python",
   "pygments_lexer": "ipython3",
   "version": "3.9.12"
  }
 },
 "nbformat": 4,
 "nbformat_minor": 5
}
