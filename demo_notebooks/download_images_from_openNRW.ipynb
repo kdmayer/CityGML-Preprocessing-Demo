{
 "cells": [
  {
   "cell_type": "code",
   "execution_count": null,
   "metadata": {},
   "outputs": [],
   "source": [
    "# Imports\n",
    "import numpy as np\n",
    "import os\n",
    "import pickle\n",
    "import requests\n",
    "import random\n",
    "import shutil\n",
    "import folium\n",
    "\n",
    "from shapely.geometry import box"
   ]
  },
  {
   "cell_type": "code",
   "execution_count": null,
   "metadata": {},
   "outputs": [],
   "source": [
    "# Configuration of CONSTANTS\n",
    "\n",
    "NRW_Center_Coordinates = [51.245649, 6.824185]\n",
    "\n",
    "# Specify directory into which you want to download the images\n",
    "TARGET_DIR = \"/Users/Kevin/Desktop/NRW_Test\"\n",
    "\n",
    "# How many images do you want to download?\n",
    "DOWNLOAD_SIZE = 10\n",
    "\n",
    "# How large is the bounding box around the coordinate (in degrees)\n",
    "NORTH_SOUTH_SPAN = 1.0\n",
    "EAST_WEST_SPAN = 1.2\n",
    "\n",
    "# URL dummy for image request to openNRW server\n",
    "WMS_1 = 'https://www.wms.nrw.de/geobasis/wms_nw_dop?SERVICE=WMS&REQUEST=GetMap&Version=1.1.1&LAYERS=nw_dop_rgb&SRS=EPSG:4326&BBOX='\n",
    "WMS_2 = '&WIDTH=320&HEIGHT=320&FORMAT=image/png;%20mode=8bit'\n",
    "\n",
    "# Avg. earth radius in meters\n",
    "R = 6371000\n",
    "\n",
    "# Image side length in meters\n",
    "SIDE = 16\n",
    "\n",
    "# Distance in north-south direction\n",
    "DLAT = (SIDE * 360) / (2 * np.pi * R)"
   ]
  },
  {
   "cell_type": "code",
   "execution_count": null,
   "metadata": {},
   "outputs": [],
   "source": [
    "def download_image(lon, lat):\n",
    "\n",
    "    \"\"\"\n",
    "    The function parameters lon and lat specify the center of a given image.\n",
    "    However, the openNRW serves expects the bounding box coordinates for a given image.\n",
    "    Hence, we convert the lon and lat to x_min, x_max, y_min, and y_max. \n",
    "    \"\"\"\n",
    "    y_max = lat + dlat/2\n",
    "    x_min = lon - (((side * 360) / (2 * np.pi * r * np.cos(np.deg2rad(y_max))))/2)\n",
    "    y_min = lat - dlat/2\n",
    "    x_max = lon + (((side * 360) / (2 * np.pi * r * np.cos(np.deg2rad(y_max))))/2)\n",
    "\n",
    "    \n",
    "    # Specify URL from which we download our tile\n",
    "    url = os.path.join(WMS_1 + str(x_min) + ',' + str(y_min) + ',' + str(x_max) + ',' + str(y_max) + WMS_2)\n",
    "\n",
    "    # Download tile imagery from URL\n",
    "    response = requests.get(url, stream=True)\n",
    "    \n",
    "    # Save downloaded file under current_save_path\n",
    "    with open(os.path.join(TARGET_DIR, str(lat) + ',' + str(lon) + \".png\"), 'wb') as out_file:\n",
    "\n",
    "        response.raw.decode_content = True\n",
    "        shutil.copyfileobj(response.raw, out_file)\n",
    "\n",
    "    del response"
   ]
  },
  {
   "cell_type": "code",
   "execution_count": null,
   "metadata": {},
   "outputs": [],
   "source": [
    "# Center point coordinates of your chosen location\n",
    "lat_center = NRW_Center_Coordinates[0]\n",
    "lon_center = NRW_Center_Coordinates[1]\n",
    "\n",
    "# Create bounding box over chosen location\n",
    "rec_south = lat_center - (NORTH_SOUTH_SPAN/2)\n",
    "rec_north = lat_center + (NORTH_SOUTH_SPAN/2)\n",
    "rec_east = lon_center + (EAST_WEST_SPAN/2)\n",
    "rec_west = lon_center - (EAST_WEST_SPAN/2)\n",
    "\n",
    "upper_left = (rec_north, rec_west)\n",
    "upper_right = (rec_north, rec_east)\n",
    "lower_left = (rec_south, rec_west)\n",
    "lower_right = (rec_south, rec_east)\n",
    "\n",
    "# Create a map to visualize center point coordinates and the respective bounding box \n",
    "m = folium.Map(location=NRW_Center_Coordinates, zoom_start=8)\n",
    "# Add center point to map\n",
    "folium.Marker(location=[lat_center, lon_center]).add_to(m)\n",
    "# Add bounding box to map\n",
    "folium.Rectangle(bounds=[upper_left, upper_right, lower_right, lower_left], color='#ff7800', fill=True, fill_color='#ffff00', fill_opacity=0.2).add_to(m)\n",
    "# Display map\n",
    "m"
   ]
  },
  {
   "cell_type": "code",
   "execution_count": null,
   "metadata": {},
   "outputs": [],
   "source": [
    "for i in range(0, DOWNLOAD_SIZE):\n",
    "    \n",
    "    # Select random coordinates within the specified bounding box\n",
    "    lat = rec_south + (rec_north - rec_south) * random.random()\n",
    "    lon = rec_west + (rec_east - rec_west) * random.random()\n",
    "\n",
    "    # Download image with respective coordinates\n",
    "    download_image(lon, lat)  "
   ]
  }
 ],
 "metadata": {
  "kernelspec": {
   "display_name": "Python 3 (ipykernel)",
   "language": "python",
   "name": "python3"
  },
  "language_info": {
   "codemirror_mode": {
    "name": "ipython",
    "version": 3
   },
   "file_extension": ".py",
   "mimetype": "text/x-python",
   "name": "python",
   "nbconvert_exporter": "python",
   "pygments_lexer": "ipython3",
   "version": "3.9.12"
  }
 },
 "nbformat": 4,
 "nbformat_minor": 4
}
